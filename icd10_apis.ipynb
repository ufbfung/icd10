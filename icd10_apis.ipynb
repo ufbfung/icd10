{
  "nbformat": 4,
  "nbformat_minor": 0,
  "metadata": {
    "colab": {
      "provenance": [],
      "authorship_tag": "ABX9TyNeQtU+9mnfQH/gI7E6wCu4",
      "include_colab_link": true
    },
    "kernelspec": {
      "name": "python3",
      "display_name": "Python 3"
    },
    "language_info": {
      "name": "python"
    }
  },
  "cells": [
    {
      "cell_type": "markdown",
      "metadata": {
        "id": "view-in-github",
        "colab_type": "text"
      },
      "source": [
        "<a href=\"https://colab.research.google.com/github/ufbfung/icd10/blob/main/icd10_apis.ipynb\" target=\"_parent\"><img src=\"https://colab.research.google.com/assets/colab-badge.svg\" alt=\"Open In Colab\"/></a>"
      ]
    },
    {
      "cell_type": "markdown",
      "source": [
        "# Querying ICD-10 codes\n",
        "The WHO provides an API to programmatically access ICD codes, but it's primarily targeted at ICD-11 as the access to ICD-10 codes is extremely limited. Because of this, this notebook will explore other APIs that can access ICD-10 codes.\n",
        "\n",
        "One example is: https://clinicaltables.nlm.nih.gov/apidoc/icd10cm/v3/doc.html\n",
        "\n",
        "Some example API queries we will build in this notebook:\n",
        "Sample API Queries\n",
        "\n",
        "|Query|Result|Description|\n",
        "|--|--|--|\n",
        "|https://clinicaltables.nlm.nih.gov/api/icd10cm/v3/search?sf=code,name&terms=tuberc|[71,[\"A15.0\",\"A15.4\",\"A15.5\",\"A15.6\",\"A15.7\",\"A15.8\",\"A15.9\"],null,[[\"A15.0\",\"Tuberculosis of lung\"], [\"A15.4\",\"Tuberculosis of intrathoracic lymph nodes\"],[\"A15.5\",\"Tuberculosis of larynx, trachea and bronchus\"],[\"A15.6\",\"Tuberculous pleurisy\"], [\"A15.7\",\"Primary respiratory tuberculosis\"],[\"A15.8\",\"Other respiratory tuberculosis\"],[\"A15.9\",\"Respiratory tuberculosis unspecified\"]]]|Returns a complete count of the 71 diagnoses that match the string \"tuberc\", displaying both the ICD-10-CM code and its associated term for the first 7 terms.\n",
        "|https://clinicaltables.nlm.nih.gov/api/icd10cm/v3/search?sf=code,name&terms=A15|[7,[\"A15.0\",\"A15.4\",\"A15.5\",\"A15.6\",\"A15.7\",\"A15.8\",\"A15.9\"],null,[[\"A15.0\",\"Tuberculosis of lung\"],[\"A15.4\",\"Tuberculosis of intrathoracic lymph nodes\"],[\"A15.5\",\"Tuberculosis of larynx, trachea and bronchus\"],[\"A15.6\",\"Tuberculous pleurisy\"],[\"A15.7\",\"Primary respiratory tuberculosis\"],[\"A15.8\",\"Other respiratory tuberculosis\"],[\"A15.9\",\"Respiratory tuberculosis unspecified\"]]]|Returns a list of all ICD-10-CM codes beginning with \"A15\" and their associated terms.|"
      ],
      "metadata": {
        "id": "ZHZlnt2kP10l"
      }
    },
    {
      "cell_type": "code",
      "source": [
        "# Import relevant libraries\n",
        "import requests\n",
        "import json\n",
        "import pandas as pd\n",
        "import os"
      ],
      "metadata": {
        "id": "3-6laT0YRuGo"
      },
      "execution_count": 21,
      "outputs": []
    },
    {
      "cell_type": "code",
      "source": [
        "from google.colab import drive\n",
        "drive.mount('/content/drive')"
      ],
      "metadata": {
        "colab": {
          "base_uri": "https://localhost:8080/"
        },
        "id": "hB5KrS7YWiBh",
        "outputId": "28d17aae-2d08-48f0-be57-2c7c29e949e7"
      },
      "execution_count": 20,
      "outputs": [
        {
          "output_type": "stream",
          "name": "stdout",
          "text": [
            "Mounted at /content/drive\n"
          ]
        }
      ]
    },
    {
      "cell_type": "code",
      "source": [
        "# Set paths\n",
        "root_path = '/content/drive/MyDrive/coding'\n",
        "icd10_path = os.path.join(root_path,'icd10')\n",
        "\n",
        "# Set files\n",
        "icd10_csv = os.path.join(icd10_path,'icd10_t1dm.csv')"
      ],
      "metadata": {
        "id": "Y9_wFigrWmSy"
      },
      "execution_count": 24,
      "outputs": []
    },
    {
      "cell_type": "code",
      "source": [
        "# Read CSV into dataframe\n",
        "df = pd.read_csv(os.path.join(icd10_path,'icd10_t1dm.csv'))\n",
        "\n",
        "# Extract 'Code' column\n",
        "code_column = df['Code']\n",
        "\n",
        "# Display the 'Code' column\n",
        "print(code_column)"
      ],
      "metadata": {
        "colab": {
          "base_uri": "https://localhost:8080/"
        },
        "id": "GMpTvOmwW337",
        "outputId": "1c1946d7-a7f2-4a03-f7a5-5bfbb298c503"
      },
      "execution_count": 31,
      "outputs": [
        {
          "output_type": "stream",
          "name": "stdout",
          "text": [
            "0     E1010\n",
            "1     E1011\n",
            "2     E1021\n",
            "3     E1022\n",
            "4     E1029\n",
            "      ...  \n",
            "82     E108\n",
            "83     E109\n",
            "84      E10\n",
            "85    99091\n",
            "86    99457\n",
            "Name: Code, Length: 87, dtype: object\n"
          ]
        }
      ]
    },
    {
      "cell_type": "code",
      "source": [
        "# Set base endpoint and search parameters\n",
        "base_url = 'https://clinicaltables.nlm.nih.gov/api/icd10cm/v3/search'\n",
        "base_param = '?sf=code,name&terms='\n",
        "icd10_code = 'A15'\n",
        "\n",
        "# Construct query\n",
        "query = base_url + base_param + icd10_code\n",
        "print(query)\n",
        "\n",
        "# Make request\n",
        "response = requests.get(query)\n",
        "if response.status_code == 200:\n",
        "    data = json.loads(response.text)\n",
        "    if isinstance(data, list) and len(data) >= 4:\n",
        "        results = data[3]\n",
        "        if isinstance(results, list) and len(results) > 0:\n",
        "            df = pd.DataFrame(results, columns=['Code', 'Name'])\n",
        "            print(df)\n",
        "        else:\n",
        "            print(f'No information found for ICD-10 code: {icd10_code}')\n",
        "    else:\n",
        "        print(f'Invalid response for ICD-10 code: {icd10_code}')\n",
        "else:\n",
        "    print(f'Error retrieving information for ICD-10 code: {icd10_code}')"
      ],
      "metadata": {
        "colab": {
          "base_uri": "https://localhost:8080/"
        },
        "id": "rssy3SHWRib1",
        "outputId": "9f8558ac-d570-4761-b473-404ad2b3fe16"
      },
      "execution_count": 35,
      "outputs": [
        {
          "output_type": "stream",
          "name": "stdout",
          "text": [
            "https://clinicaltables.nlm.nih.gov/api/icd10cm/v3/search?sf=code,name&terms=A15\n",
            "    Code                                          Name\n",
            "0  A15.0                          Tuberculosis of lung\n",
            "1  A15.4     Tuberculosis of intrathoracic lymph nodes\n",
            "2  A15.5  Tuberculosis of larynx, trachea and bronchus\n",
            "3  A15.6                          Tuberculous pleurisy\n",
            "4  A15.7              Primary respiratory tuberculosis\n",
            "5  A15.8                Other respiratory tuberculosis\n",
            "6  A15.9          Respiratory tuberculosis unspecified\n"
          ]
        }
      ]
    },
    {
      "cell_type": "code",
      "source": [
        "base_url = 'https://clinicaltables.nlm.nih.gov/api/icd10cm/v3/search'\n",
        "base_param = '?sf=code,name&terms='\n",
        "icd10_codes = ['A15', 'B20']\n",
        "\n",
        "for icd10_code in icd10_codes:\n",
        "    query = base_url + base_param + icd10_code\n",
        "    response = requests.get(query)\n",
        "\n",
        "    if response.status_code == 200:\n",
        "        data = json.loads(response.text)\n",
        "        if isinstance(data, list) and len(data) >= 4:\n",
        "            codes = data[1]\n",
        "            descriptions = data[3]\n",
        "\n",
        "            if isinstance(codes, list) and isinstance(descriptions, list):\n",
        "                for code, description in zip(codes, descriptions):\n",
        "                    print(f'ICD-10-CM Code: {code}')\n",
        "                    print(f'Description: {description}')\n",
        "                    print('---')\n",
        "            else:\n",
        "                print(f'No information found for ICD-10 code: {icd10_code}')\n",
        "        else:\n",
        "            print(f'Invalid response for ICD-10 code: {icd10_code}')\n",
        "    else:\n",
        "        print(f'Error retrieving information for ICD-10 code: {icd10_code}')"
      ],
      "metadata": {
        "colab": {
          "base_uri": "https://localhost:8080/"
        },
        "id": "pVFaJkTbbD_b",
        "outputId": "c213637f-547d-4714-a6e3-e9521b991c17"
      },
      "execution_count": 36,
      "outputs": [
        {
          "output_type": "stream",
          "name": "stdout",
          "text": [
            "ICD-10-CM Code: A15.0\n",
            "Description: ['A15.0', 'Tuberculosis of lung']\n",
            "---\n",
            "ICD-10-CM Code: A15.4\n",
            "Description: ['A15.4', 'Tuberculosis of intrathoracic lymph nodes']\n",
            "---\n",
            "ICD-10-CM Code: A15.5\n",
            "Description: ['A15.5', 'Tuberculosis of larynx, trachea and bronchus']\n",
            "---\n",
            "ICD-10-CM Code: A15.6\n",
            "Description: ['A15.6', 'Tuberculous pleurisy']\n",
            "---\n",
            "ICD-10-CM Code: A15.7\n",
            "Description: ['A15.7', 'Primary respiratory tuberculosis']\n",
            "---\n",
            "ICD-10-CM Code: A15.8\n",
            "Description: ['A15.8', 'Other respiratory tuberculosis']\n",
            "---\n",
            "ICD-10-CM Code: A15.9\n",
            "Description: ['A15.9', 'Respiratory tuberculosis unspecified']\n",
            "---\n",
            "ICD-10-CM Code: B20\n",
            "Description: ['B20', 'Human immunodeficiency virus [HIV] disease']\n",
            "---\n"
          ]
        }
      ]
    }
  ]
}